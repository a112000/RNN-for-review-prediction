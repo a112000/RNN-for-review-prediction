{
  "nbformat": 4,
  "nbformat_minor": 0,
  "metadata": {
    "colab": {
      "name": "hw3_Bychkov.ipynb",
      "provenance": [],
      "toc_visible": true
    },
    "kernelspec": {
      "display_name": "Python 3",
      "language": "python",
      "name": "python3"
    },
    "language_info": {
      "codemirror_mode": {
        "name": "ipython",
        "version": 3
      },
      "file_extension": ".py",
      "mimetype": "text/x-python",
      "name": "python",
      "nbconvert_exporter": "python",
      "pygments_lexer": "ipython3",
      "version": "3.9.0"
    },
    "accelerator": "GPU"
  },
  "cells": [
    {
      "cell_type": "markdown",
      "metadata": {
        "id": "OSTywc-WmRli"
      },
      "source": [
        "# Домашнее задание 3. \n",
        "\n",
        "## Предсказание пользовательской оценки отеля по тексту отзыва."
      ]
    },
    {
      "cell_type": "markdown",
      "metadata": {
        "id": "uqepILehmRl0"
      },
      "source": [
        "Мы собрали для вас отзывы по 1500 отелям из совершенно разных уголков мира. Что это за отели - секрет. Вам дан текст отзыва и пользовательская оценка отеля. Ваша задача - научиться предсказывать оценку отеля по отзыву. Данные можно скачать [тут](https://www.kaggle.com/c/hseds-texts-2020/data?select=train.csv)."
      ]
    },
    {
      "cell_type": "markdown",
      "metadata": {
        "id": "bZGRS8aAmRl1"
      },
      "source": [
        "Главная метрика - Mean Absolute Error (MAE). Во всех частях домашней работы вам нужно получить значение MAE не превышающее 1. В противном случае мы будем вынуждены не засчитать задание :( "
      ]
    },
    {
      "cell_type": "markdown",
      "metadata": {
        "id": "jXIX2tIkmRl2"
      },
      "source": [
        "Для измерения качества вашей модели используйте разбиение данных на train и test и замеряйте качество на тестовой части."
      ]
    },
    {
      "cell_type": "markdown",
      "metadata": {
        "id": "8-VS6SW3mRl3"
      },
      "source": [
        "#### Про данные:\n",
        "Каждое ревью состоит из двух текстов: positive и negative - плюсы и минусы отеля. В столбце score находится оценка пользователя - вещественное число 0 до 10. Вам нужно извлечь признаки из этих текстов и предсказать по ним оценку."
      ]
    },
    {
      "cell_type": "markdown",
      "metadata": {
        "id": "l6cwkhnQmRl3"
      },
      "source": [
        "Удачи! 💪"
      ]
    },
    {
      "cell_type": "markdown",
      "metadata": {
        "id": "hzdv085EmRl4"
      },
      "source": [
        "#### Использовать внешние данные для обучения строго запрещено. Можно использовать предобученные модели из torchvision."
      ]
    },
    {
      "cell_type": "code",
      "metadata": {
        "id": "CczMB02XmRl5"
      },
      "source": [
        "PATH_TO_TRAIN_DATA = 'train.csv' # файл загружал через \"загрузку в сессионное хранилище\""
      ],
      "execution_count": null,
      "outputs": []
    },
    {
      "cell_type": "code",
      "metadata": {
        "colab": {
          "base_uri": "https://localhost:8080/",
          "height": 195
        },
        "id": "iwHuZSD3mRl6",
        "outputId": "c7a8d48c-5e03-4626-ed6d-f0e4556d9ae9"
      },
      "source": [
        "import pandas as pd\n",
        "\n",
        "df = pd.read_csv(PATH_TO_TRAIN_DATA)\n",
        "df.head()"
      ],
      "execution_count": null,
      "outputs": [
        {
          "output_type": "execute_result",
          "data": {
            "text/html": [
              "<div>\n",
              "<style scoped>\n",
              "    .dataframe tbody tr th:only-of-type {\n",
              "        vertical-align: middle;\n",
              "    }\n",
              "\n",
              "    .dataframe tbody tr th {\n",
              "        vertical-align: top;\n",
              "    }\n",
              "\n",
              "    .dataframe thead th {\n",
              "        text-align: right;\n",
              "    }\n",
              "</style>\n",
              "<table border=\"1\" class=\"dataframe\">\n",
              "  <thead>\n",
              "    <tr style=\"text-align: right;\">\n",
              "      <th></th>\n",
              "      <th>review_id</th>\n",
              "      <th>negative</th>\n",
              "      <th>positive</th>\n",
              "      <th>score</th>\n",
              "    </tr>\n",
              "  </thead>\n",
              "  <tbody>\n",
              "    <tr>\n",
              "      <th>0</th>\n",
              "      <td>00003c6036f30f590c0ac435efb8739b</td>\n",
              "      <td>There were issues with the wifi connection</td>\n",
              "      <td>No Positive</td>\n",
              "      <td>7.1</td>\n",
              "    </tr>\n",
              "    <tr>\n",
              "      <th>1</th>\n",
              "      <td>00004d18f186bf2489590dc415876f73</td>\n",
              "      <td>TV not working</td>\n",
              "      <td>No Positive</td>\n",
              "      <td>7.5</td>\n",
              "    </tr>\n",
              "    <tr>\n",
              "      <th>2</th>\n",
              "      <td>0000cf900cbb8667fad33a717e9b1cf4</td>\n",
              "      <td>More pillows</td>\n",
              "      <td>Beautiful room Great location Lovely staff</td>\n",
              "      <td>10.0</td>\n",
              "    </tr>\n",
              "    <tr>\n",
              "      <th>3</th>\n",
              "      <td>0000df16edf19e7ad9dd8c5cd6f6925e</td>\n",
              "      <td>Very business</td>\n",
              "      <td>Location</td>\n",
              "      <td>5.4</td>\n",
              "    </tr>\n",
              "    <tr>\n",
              "      <th>4</th>\n",
              "      <td>00025e1aa3ac32edb496db49e76bbd00</td>\n",
              "      <td>Rooms could do with a bit of a refurbishment ...</td>\n",
              "      <td>Nice breakfast handy for Victoria train stati...</td>\n",
              "      <td>6.7</td>\n",
              "    </tr>\n",
              "  </tbody>\n",
              "</table>\n",
              "</div>"
            ],
            "text/plain": [
              "                          review_id  ... score\n",
              "0  00003c6036f30f590c0ac435efb8739b  ...   7.1\n",
              "1  00004d18f186bf2489590dc415876f73  ...   7.5\n",
              "2  0000cf900cbb8667fad33a717e9b1cf4  ...  10.0\n",
              "3  0000df16edf19e7ad9dd8c5cd6f6925e  ...   5.4\n",
              "4  00025e1aa3ac32edb496db49e76bbd00  ...   6.7\n",
              "\n",
              "[5 rows x 4 columns]"
            ]
          },
          "metadata": {
            "tags": []
          },
          "execution_count": 51
        }
      ]
    },
    {
      "cell_type": "markdown",
      "metadata": {
        "id": "e8bbzN9RmRl8"
      },
      "source": [
        "Предобработка текста может сказываться на качестве вашей модели.\n",
        "Сделаем небольшой препроцессинг текстов: удалим знаки препинания, приведем все слова к нижнему регистру. \n",
        "Однако можно не ограничиваться этим набором преобразований. Подумайте, что еще можно сделать с текстами, чтобы помочь будущим моделям? Добавьте преобразования, которые могли бы помочь по вашему мнению."
      ]
    },
    {
      "cell_type": "markdown",
      "metadata": {
        "id": "BWILGf8rmRl8"
      },
      "source": [
        "Также мы добавили разбиение текстов на токены. Теперь каждая строка-ревью стала массивом токенов."
      ]
    },
    {
      "cell_type": "code",
      "metadata": {
        "colab": {
          "base_uri": "https://localhost:8080/"
        },
        "id": "Usb6VcwRmRl9",
        "outputId": "315d9fcc-4c57-4c89-aa94-1bfef22b54aa"
      },
      "source": [
        "import string\n",
        "\n",
        "import nltk\n",
        "nltk.download('punkt')\n",
        "\n",
        "from nltk.tokenize import word_tokenize\n",
        "\n",
        "def process_text(text):\n",
        "    return [word for word in word_tokenize(text.lower()) if word not in string.punctuation]"
      ],
      "execution_count": null,
      "outputs": [
        {
          "output_type": "stream",
          "text": [
            "[nltk_data] Downloading package punkt to /root/nltk_data...\n",
            "[nltk_data]   Package punkt is already up-to-date!\n"
          ],
          "name": "stdout"
        }
      ]
    },
    {
      "cell_type": "code",
      "metadata": {
        "id": "HQF-eWsoX6Gf"
      },
      "source": [
        "########## SVOYI DOBAVLENIYA ########\r\n",
        "df_my = df"
      ],
      "execution_count": null,
      "outputs": []
    },
    {
      "cell_type": "code",
      "metadata": {
        "id": "Vh-KHlVUmRl9"
      },
      "source": [
        "#df['negative'] = df['negative'].apply(process_text) because TfidfVectorizer works with strings, not tokens.\n",
        "#df['positive'] = df['positive'].apply(process_text)"
      ],
      "execution_count": null,
      "outputs": []
    },
    {
      "cell_type": "code",
      "metadata": {
        "id": "xd_1rUZNmRl-"
      },
      "source": [
        "from sklearn.model_selection import train_test_split\n",
        "\n",
        "#df_train, df_test = train_test_split(df)"
      ],
      "execution_count": null,
      "outputs": []
    },
    {
      "cell_type": "code",
      "metadata": {
        "id": "Bsq-N9PTaY0s"
      },
      "source": [
        "df_train, df_test = train_test_split(df_my, train_size=30000, test_size=10000, shuffle=False)"
      ],
      "execution_count": null,
      "outputs": []
    },
    {
      "cell_type": "markdown",
      "metadata": {
        "id": "1NoPGDOqmRl-"
      },
      "source": [
        "### Часть 1. 1 балл"
      ]
    },
    {
      "cell_type": "markdown",
      "metadata": {
        "id": "PGRfgAOtmRl_"
      },
      "source": [
        "Обучите логистическую регрессию на TF-IDF векторах текстов."
      ]
    },
    {
      "cell_type": "code",
      "metadata": {
        "id": "ti7RzS8jmRl_"
      },
      "source": [
        "from sklearn.feature_extraction.text import TfidfVectorizer\n",
        "from sklearn.linear_model import LogisticRegression\n",
        "from sklearn.linear_model import LinearRegression\n",
        "\n",
        "import numpy as np\n",
        "from sklearn.metrics import mean_absolute_error"
      ],
      "execution_count": null,
      "outputs": []
    },
    {
      "cell_type": "code",
      "metadata": {
        "colab": {
          "base_uri": "https://localhost:8080/"
        },
        "id": "3TWokV0leykC",
        "outputId": "e76f29a7-5610-4626-e624-e7f574c5864c"
      },
      "source": [
        "df_train['positive'] = 'positive: ' + df_train['positive'] + ' ' + df_train['negative'] + ' negative.' # concatenation two rows \r\n",
        "# into one (positive).\r\n",
        "df_test['positive'] = 'positive: ' + df_test['positive'] + ' ' + df_test['negative'] + ' negative.'"
      ],
      "execution_count": null,
      "outputs": [
        {
          "output_type": "stream",
          "text": [
            "/usr/local/lib/python3.6/dist-packages/ipykernel_launcher.py:1: SettingWithCopyWarning: \n",
            "A value is trying to be set on a copy of a slice from a DataFrame.\n",
            "Try using .loc[row_indexer,col_indexer] = value instead\n",
            "\n",
            "See the caveats in the documentation: https://pandas.pydata.org/pandas-docs/stable/user_guide/indexing.html#returning-a-view-versus-a-copy\n",
            "  \"\"\"Entry point for launching an IPython kernel.\n",
            "/usr/local/lib/python3.6/dist-packages/ipykernel_launcher.py:2: SettingWithCopyWarning: \n",
            "A value is trying to be set on a copy of a slice from a DataFrame.\n",
            "Try using .loc[row_indexer,col_indexer] = value instead\n",
            "\n",
            "See the caveats in the documentation: https://pandas.pydata.org/pandas-docs/stable/user_guide/indexing.html#returning-a-view-versus-a-copy\n",
            "  \n"
          ],
          "name": "stderr"
        }
      ]
    },
    {
      "cell_type": "code",
      "metadata": {
        "id": "mw5AMNLNPLk6"
      },
      "source": [
        "vectorizer = TfidfVectorizer()\r\n",
        "train_x = vectorizer.fit_transform(df_train['positive']) # series type\r\n",
        "test_x = vectorizer.transform(df_test['positive'])"
      ],
      "execution_count": null,
      "outputs": []
    },
    {
      "cell_type": "code",
      "metadata": {
        "id": "6baGvlkk5nEl"
      },
      "source": [
        "train_y = df_train['score']\r\n",
        "test_y = df_test['score']"
      ],
      "execution_count": null,
      "outputs": []
    },
    {
      "cell_type": "code",
      "metadata": {
        "id": "sLnDJeT8W9wg"
      },
      "source": [
        "train_x = train_x.toarray() # sparse matrix to array\r\n",
        "test_x = test_x.toarray()"
      ],
      "execution_count": null,
      "outputs": []
    },
    {
      "cell_type": "code",
      "metadata": {
        "id": "803vD5_46OI_"
      },
      "source": [
        "train_y = train_y.to_numpy() # series to array\r\n",
        "test_y = test_y.to_numpy()"
      ],
      "execution_count": null,
      "outputs": []
    },
    {
      "cell_type": "code",
      "metadata": {
        "id": "uYZ6jfNUeVKE"
      },
      "source": [
        "train_y = np.around(train_y)"
      ],
      "execution_count": null,
      "outputs": []
    },
    {
      "cell_type": "code",
      "metadata": {
        "id": "rUoNgnYQfH8t"
      },
      "source": [
        "train_y = train_y.astype(int)"
      ],
      "execution_count": null,
      "outputs": []
    },
    {
      "cell_type": "markdown",
      "metadata": {
        "id": "M2MrVXtk6LDF"
      },
      "source": [
        "У меня fit работает примерно 5 минут."
      ]
    },
    {
      "cell_type": "code",
      "metadata": {
        "colab": {
          "base_uri": "https://localhost:8080/"
        },
        "id": "mgWG0VMQX7mg",
        "outputId": "38a19c7d-cdd6-49df-a3a1-e2e3a2182db9"
      },
      "source": [
        "log_reg = LogisticRegression().fit(train_x, train_y)"
      ],
      "execution_count": null,
      "outputs": [
        {
          "output_type": "stream",
          "text": [
            "/usr/local/lib/python3.6/dist-packages/sklearn/linear_model/_logistic.py:940: ConvergenceWarning: lbfgs failed to converge (status=1):\n",
            "STOP: TOTAL NO. of ITERATIONS REACHED LIMIT.\n",
            "\n",
            "Increase the number of iterations (max_iter) or scale the data as shown in:\n",
            "    https://scikit-learn.org/stable/modules/preprocessing.html\n",
            "Please also refer to the documentation for alternative solver options:\n",
            "    https://scikit-learn.org/stable/modules/linear_model.html#logistic-regression\n",
            "  extra_warning_msg=_LOGISTIC_SOLVER_CONVERGENCE_MSG)\n"
          ],
          "name": "stderr"
        }
      ]
    },
    {
      "cell_type": "code",
      "metadata": {
        "id": "zEbm4eCFZU9p"
      },
      "source": [
        "pred = log_reg.predict(test_x)"
      ],
      "execution_count": null,
      "outputs": []
    },
    {
      "cell_type": "code",
      "metadata": {
        "colab": {
          "base_uri": "https://localhost:8080/"
        },
        "id": "MzUtaqlnZWPS",
        "outputId": "a43e02d9-03bd-43a1-a246-deef538a7f9e"
      },
      "source": [
        "mean_absolute_error(test_y, pred)"
      ],
      "execution_count": null,
      "outputs": [
        {
          "output_type": "execute_result",
          "data": {
            "text/plain": [
              "0.97445"
            ]
          },
          "metadata": {
            "tags": []
          },
          "execution_count": 65
        }
      ]
    },
    {
      "cell_type": "markdown",
      "metadata": {
        "id": "a7uBUO00mRmA"
      },
      "source": [
        "### Часть 2. 3 балла"
      ]
    },
    {
      "cell_type": "markdown",
      "metadata": {
        "id": "29lPUrQ7mRmA"
      },
      "source": [
        "Обучите логистическую регрессию на усредненных Word2Vec векторах. "
      ]
    },
    {
      "cell_type": "code",
      "metadata": {
        "id": "ZQF1oPhYCB7W"
      },
      "source": [
        "np.set_printoptions(threshold=np.inf)"
      ],
      "execution_count": null,
      "outputs": []
    },
    {
      "cell_type": "code",
      "metadata": {
        "id": "RkkTCDlpmRmA"
      },
      "source": [
        "from gensim.models import Word2Vec"
      ],
      "execution_count": null,
      "outputs": []
    },
    {
      "cell_type": "code",
      "metadata": {
        "id": "NoSj0MgGQxTw"
      },
      "source": [
        "df = pd.read_csv(PATH_TO_TRAIN_DATA)\r\n",
        "\r\n",
        "df['positive'] = 'positive: ' + df['positive'] + ' ' + df['negative'] + ' negative.' # concatenation two rows into one (positive).\r\n",
        "\r\n",
        "df['positive'] = df['positive'].apply(process_text)\r\n",
        "\r\n",
        "df_train, df_test = train_test_split(df, train_size=30000, test_size=10000, shuffle=False)"
      ],
      "execution_count": null,
      "outputs": []
    },
    {
      "cell_type": "code",
      "metadata": {
        "id": "4_LzUhDmKfhJ"
      },
      "source": [
        "train_x = df_train['positive'] \r\n",
        "test_x = df_test['positive']\r\n",
        "\r\n",
        "train_y = df_train['score']\r\n",
        "test_y = df_test['score']"
      ],
      "execution_count": null,
      "outputs": []
    },
    {
      "cell_type": "code",
      "metadata": {
        "id": "uJvAI96VcHEG"
      },
      "source": [
        "train_y = train_y.to_numpy() # series to array\r\n",
        "test_y = test_y.to_numpy()"
      ],
      "execution_count": null,
      "outputs": []
    },
    {
      "cell_type": "code",
      "metadata": {
        "id": "5Yu8EBYHdddZ"
      },
      "source": [
        "train_y = np.around(train_y)\r\n",
        "train_y = train_y.astype(int)"
      ],
      "execution_count": null,
      "outputs": []
    },
    {
      "cell_type": "code",
      "metadata": {
        "id": "9YwlItReBH2Z"
      },
      "source": [
        "train_x = train_x.to_numpy()\r\n",
        "test_x = test_x.to_numpy()"
      ],
      "execution_count": null,
      "outputs": []
    },
    {
      "cell_type": "code",
      "metadata": {
        "id": "E7CJOax7ATK8"
      },
      "source": [
        "emb_size = 300"
      ],
      "execution_count": null,
      "outputs": []
    },
    {
      "cell_type": "markdown",
      "metadata": {
        "id": "9xgUzpv0at52"
      },
      "source": [
        "Следующая функция, считающая векторы для каждого слова из словаря, у меня работает минуты 2. Ее параметры позволяют получить приемлемое качество. "
      ]
    },
    {
      "cell_type": "code",
      "metadata": {
        "id": "axU29sTaHQvO"
      },
      "source": [
        "model = Word2Vec(sentences=train_x, size=emb_size, sg=1, hs=1, window=11, iter=8, sample=0.001, alpha=0.030, min_count=3, min_alpha=0.0001, max_vocab_size=15000)"
      ],
      "execution_count": null,
      "outputs": []
    },
    {
      "cell_type": "code",
      "metadata": {
        "colab": {
          "base_uri": "https://localhost:8080/"
        },
        "id": "lNyBfihXMDBF",
        "outputId": "96537329-2a26-4e1d-e735-c25dd6b83ee3"
      },
      "source": [
        "X = model[model.wv.vocab]"
      ],
      "execution_count": null,
      "outputs": [
        {
          "output_type": "stream",
          "text": [
            "/usr/local/lib/python3.6/dist-packages/ipykernel_launcher.py:1: DeprecationWarning: Call to deprecated `__getitem__` (Method will be removed in 4.0.0, use self.wv.__getitem__() instead).\n",
            "  \"\"\"Entry point for launching an IPython kernel.\n"
          ],
          "name": "stderr"
        }
      ]
    },
    {
      "cell_type": "code",
      "metadata": {
        "id": "s9Fp16xONNbC"
      },
      "source": [
        "words = np.array(list(model.wv.vocab))"
      ],
      "execution_count": null,
      "outputs": []
    },
    {
      "cell_type": "markdown",
      "metadata": {
        "id": "g1MAmxlCbEn1"
      },
      "source": [
        "Далее - два цикла, где усредняются вектора в каждом предложении (отзыве). Длится это все минуты четыре."
      ]
    },
    {
      "cell_type": "code",
      "metadata": {
        "id": "3K2qiethN4LD"
      },
      "source": [
        "train_X = np.zeros((len(train_x), emb_size,))\r\n",
        "for i in range(len(train_x)):\r\n",
        "  x = np.zeros((emb_size,))\r\n",
        "  c = 0\r\n",
        "  for word in train_x[i]:\r\n",
        "    if word in words:\r\n",
        "      x = x + X[np.where(words == word)[0][0]]\r\n",
        "      c += 1\r\n",
        "  train_X[i] = x / c\r\n",
        "  if np.isnan(train_X[i]).any():\r\n",
        "    train_X[i] = np.zeros((emb_size,))\r\n",
        "\r\n",
        "test_X = np.zeros((len(test_x), emb_size,))\r\n",
        "for i in range(len(test_x)):\r\n",
        "  x = np.zeros((emb_size,))\r\n",
        "  c = 0\r\n",
        "  for word in test_x[i]:\r\n",
        "    if word in words:\r\n",
        "      x = x + X[np.where(words == word)[0][0]]\r\n",
        "      c += 1\r\n",
        "  test_X[i] = x / c\r\n",
        "  if np.isnan(test_X[i]).any():\r\n",
        "    test_X[i] = np.zeros((emb_size,))"
      ],
      "execution_count": null,
      "outputs": []
    },
    {
      "cell_type": "code",
      "metadata": {
        "colab": {
          "base_uri": "https://localhost:8080/"
        },
        "id": "VNP8x_q9b-EG",
        "outputId": "0a353bb7-ec16-4bcf-bc98-30847a318cc2"
      },
      "source": [
        "log_reg = LogisticRegression(max_iter=300, penalty='none').fit(train_X, train_y)"
      ],
      "execution_count": null,
      "outputs": [
        {
          "output_type": "stream",
          "text": [
            "/usr/local/lib/python3.6/dist-packages/sklearn/linear_model/_logistic.py:940: ConvergenceWarning: lbfgs failed to converge (status=1):\n",
            "STOP: TOTAL NO. of ITERATIONS REACHED LIMIT.\n",
            "\n",
            "Increase the number of iterations (max_iter) or scale the data as shown in:\n",
            "    https://scikit-learn.org/stable/modules/preprocessing.html\n",
            "Please also refer to the documentation for alternative solver options:\n",
            "    https://scikit-learn.org/stable/modules/linear_model.html#logistic-regression\n",
            "  extra_warning_msg=_LOGISTIC_SOLVER_CONVERGENCE_MSG)\n"
          ],
          "name": "stderr"
        }
      ]
    },
    {
      "cell_type": "code",
      "metadata": {
        "id": "r3wgYTsnc5U1"
      },
      "source": [
        "pred = log_reg.predict(test_X)"
      ],
      "execution_count": null,
      "outputs": []
    },
    {
      "cell_type": "code",
      "metadata": {
        "colab": {
          "base_uri": "https://localhost:8080/"
        },
        "id": "B-Wo_3KJNHJD",
        "outputId": "f81fc98b-fac2-44d9-a1c4-d347376b1bf7"
      },
      "source": [
        "mean_absolute_error(test_y, pred)"
      ],
      "execution_count": null,
      "outputs": [
        {
          "output_type": "execute_result",
          "data": {
            "text/plain": [
              "0.97896"
            ]
          },
          "metadata": {
            "tags": []
          },
          "execution_count": 23
        }
      ]
    },
    {
      "cell_type": "markdown",
      "metadata": {
        "id": "NPaDhC99kBvP"
      },
      "source": [
        "Создаю массив со значениями длины эмбеддинга (для трех значений: 100, 300, 500) и с лоссами для каждого значения эмбеддинга для модели с единичными весами (пока нули)."
      ]
    },
    {
      "cell_type": "code",
      "metadata": {
        "id": "mIvrm97uYwhP"
      },
      "source": [
        "emp_seq = [100, 300, 500]\r\n",
        "qual_zeroweight = [0, 0, 0]"
      ],
      "execution_count": null,
      "outputs": []
    },
    {
      "cell_type": "code",
      "metadata": {
        "id": "y_Y5RQ7HTcTz"
      },
      "source": [
        "qual_zeroweight[1] = mean_absolute_error(test_y, pred)"
      ],
      "execution_count": null,
      "outputs": []
    },
    {
      "cell_type": "code",
      "metadata": {
        "colab": {
          "base_uri": "https://localhost:8080/"
        },
        "id": "f49cUInf72Qs",
        "outputId": "77bec953-2a17-4053-bb7d-c7108f24b153"
      },
      "source": [
        "mean_absolute_error(test_y, pred)"
      ],
      "execution_count": null,
      "outputs": [
        {
          "output_type": "execute_result",
          "data": {
            "text/plain": [
              "0.9869399999999999"
            ]
          },
          "metadata": {
            "tags": []
          },
          "execution_count": 724
        }
      ]
    },
    {
      "cell_type": "markdown",
      "metadata": {
        "id": "aHTcdmRkmRmB"
      },
      "source": [
        "Усредняя w2v вектора, мы предполагаем, что каждое слово имеет равноценный вклад в смысл предложения, однако это может быть не совсем так. Теперь попробуйте воспользоваться другой концепцией и перевзвесить слова при получении итогового эмбеддинга текста. В качестве весов используйте IDF (Inverse document frequency)"
      ]
    },
    {
      "cell_type": "markdown",
      "metadata": {
        "id": "YXnblXZWb3hQ"
      },
      "source": [
        "Далее - функция для подсчета весов (вес для каждого слова - от 0,0001 до трёх, с учетом размера трейна = 30000). Работает не мало, примерно 4 минуты."
      ]
    },
    {
      "cell_type": "code",
      "metadata": {
        "id": "3Ku6NS3zmRmB"
      },
      "source": [
        "def calc_idf(texts, vocab):\n",
        "    weights = np.zeros((len(vocab), ))\n",
        "    for j in range(len(vocab)):\n",
        "      freq = 0\n",
        "      for i in range(len(texts)):\n",
        "        if vocab[j] in texts[i]:\n",
        "          freq += 1\n",
        "      weights[j] = len(texts) / freq\n",
        "    weights = weights / 10000\n",
        "    return weights\n",
        "\n",
        "we = calc_idf(train_x, words)"
      ],
      "execution_count": null,
      "outputs": []
    },
    {
      "cell_type": "markdown",
      "metadata": {
        "id": "t709UV46c41u"
      },
      "source": [
        "Прошу прощения за повторяющиеся куски кода дальше, это можно было бы красивее оформить функциями, но времени не хватило."
      ]
    },
    {
      "cell_type": "code",
      "metadata": {
        "id": "uzuESwq0kxKe",
        "colab": {
          "base_uri": "https://localhost:8080/"
        },
        "outputId": "17077b69-7209-441a-c772-dada80cd7b34"
      },
      "source": [
        "emb_size = 100\r\n",
        "model = Word2Vec(sentences=train_x, size=emb_size, sg=1, hs=1, window=11, iter=8, sample=0.001, alpha=0.030, min_count=3, min_alpha=0.0001, max_vocab_size=15000)\r\n",
        "X = model[model.wv.vocab]\r\n",
        "words = np.array(list(model.wv.vocab))\r\n",
        "\r\n",
        "train_XX = np.zeros((len(train_x), emb_size,))\r\n",
        "for i in range(len(train_x)):\r\n",
        "  x = np.zeros((emb_size,))\r\n",
        "  c = 0\r\n",
        "  for word in train_x[i]:\r\n",
        "    if word in words:\r\n",
        "      x = x + we[np.where(words == word)[0][0]]*X[np.where(words == word)[0][0]]\r\n",
        "      c += 1\r\n",
        "  train_XX[i] = x / c\r\n",
        "  if np.isnan(train_XX[i]).any():\r\n",
        "    train_XX[i] = np.zeros((emb_size,))\r\n",
        "\r\n",
        "test_XX = np.zeros((len(test_x), emb_size,))\r\n",
        "for i in range(len(test_x)):\r\n",
        "  x = np.zeros((emb_size,))\r\n",
        "  c = 0\r\n",
        "  for word in test_x[i]:\r\n",
        "    if word in words:\r\n",
        "      x = x + we[np.where(words == word)[0][0]]*X[np.where(words == word)[0][0]]\r\n",
        "      c += 1\r\n",
        "  test_XX[i] = x / c\r\n",
        "  if np.isnan(test_XX[i]).any():\r\n",
        "    test_XX[i] = np.zeros((emb_size,))\r\n",
        "\r\n",
        "log_reg = LogisticRegression(max_iter=300, penalty='none').fit(train_XX, train_y)\r\n",
        "pred_XX = log_reg.predict(test_XX)\r\n",
        "mean_absolute_error(test_y, pred_XX)"
      ],
      "execution_count": null,
      "outputs": [
        {
          "output_type": "stream",
          "text": [
            "/usr/local/lib/python3.6/dist-packages/ipykernel_launcher.py:3: DeprecationWarning: Call to deprecated `__getitem__` (Method will be removed in 4.0.0, use self.wv.__getitem__() instead).\n",
            "  This is separate from the ipykernel package so we can avoid doing imports until\n",
            "/usr/local/lib/python3.6/dist-packages/sklearn/linear_model/_logistic.py:940: ConvergenceWarning: lbfgs failed to converge (status=1):\n",
            "STOP: TOTAL NO. of ITERATIONS REACHED LIMIT.\n",
            "\n",
            "Increase the number of iterations (max_iter) or scale the data as shown in:\n",
            "    https://scikit-learn.org/stable/modules/preprocessing.html\n",
            "Please also refer to the documentation for alternative solver options:\n",
            "    https://scikit-learn.org/stable/modules/linear_model.html#logistic-regression\n",
            "  extra_warning_msg=_LOGISTIC_SOLVER_CONVERGENCE_MSG)\n"
          ],
          "name": "stderr"
        },
        {
          "output_type": "execute_result",
          "data": {
            "text/plain": [
              "1.4048200000000002"
            ]
          },
          "metadata": {
            "tags": []
          },
          "execution_count": 42
        }
      ]
    },
    {
      "cell_type": "markdown",
      "metadata": {
        "id": "kRIBk30qjagt"
      },
      "source": [
        "На этом моменте я решил, что показать лоссы для четырех значений размера эмбеддинга (100, 200, 300, 500) будет нагляднее, чем для трех, поэтому создается массив из четырех элементов (для модели с гибкими весами)."
      ]
    },
    {
      "cell_type": "code",
      "metadata": {
        "id": "5k7zYDYlZx2d"
      },
      "source": [
        "qual_flexweight = [0, 0, 0, 0]\r\n",
        "qual_flexweight[0] = mean_absolute_error(test_y, pred_XX)"
      ],
      "execution_count": null,
      "outputs": []
    },
    {
      "cell_type": "code",
      "metadata": {
        "colab": {
          "base_uri": "https://localhost:8080/"
        },
        "id": "Z-YBUsK6YoxL",
        "outputId": "85de21e1-e1f2-4e40-8dd5-0969764da722"
      },
      "source": [
        "emb_size = 200\r\n",
        "model = Word2Vec(sentences=train_x, size=emb_size, sg=1, hs=1, window=11, iter=8, sample=0.001, alpha=0.030, min_count=3, min_alpha=0.0001, max_vocab_size=15000)\r\n",
        "X = model[model.wv.vocab]\r\n",
        "words = np.array(list(model.wv.vocab))\r\n",
        "\r\n",
        "train_XX = np.zeros((len(train_x), emb_size,))\r\n",
        "for i in range(len(train_x)):\r\n",
        "  x = np.zeros((emb_size,))\r\n",
        "  c = 0\r\n",
        "  for word in train_x[i]:\r\n",
        "    if word in words:\r\n",
        "      x = x + we[np.where(words == word)[0][0]]*X[np.where(words == word)[0][0]]\r\n",
        "      c += 1\r\n",
        "  train_XX[i] = x / c\r\n",
        "  if np.isnan(train_XX[i]).any():\r\n",
        "    train_XX[i] = np.zeros((emb_size,))\r\n",
        "\r\n",
        "test_XX = np.zeros((len(test_x), emb_size,))\r\n",
        "for i in range(len(test_x)):\r\n",
        "  x = np.zeros((emb_size,))\r\n",
        "  c = 0\r\n",
        "  for word in test_x[i]:\r\n",
        "    if word in words:\r\n",
        "      x = x + we[np.where(words == word)[0][0]]*X[np.where(words == word)[0][0]]\r\n",
        "      c += 1\r\n",
        "  test_XX[i] = x / c\r\n",
        "  if np.isnan(test_XX[i]).any():\r\n",
        "    test_XX[i] = np.zeros((emb_size,))\r\n",
        "\r\n",
        "log_reg = LogisticRegression(max_iter=300, penalty='none').fit(train_XX, train_y)\r\n",
        "pred_XX = log_reg.predict(test_XX)\r\n",
        "mean_absolute_error(test_y, pred_XX)"
      ],
      "execution_count": null,
      "outputs": [
        {
          "output_type": "stream",
          "text": [
            "/usr/local/lib/python3.6/dist-packages/ipykernel_launcher.py:3: DeprecationWarning: Call to deprecated `__getitem__` (Method will be removed in 4.0.0, use self.wv.__getitem__() instead).\n",
            "  This is separate from the ipykernel package so we can avoid doing imports until\n",
            "/usr/local/lib/python3.6/dist-packages/sklearn/linear_model/_logistic.py:940: ConvergenceWarning: lbfgs failed to converge (status=1):\n",
            "STOP: TOTAL NO. of ITERATIONS REACHED LIMIT.\n",
            "\n",
            "Increase the number of iterations (max_iter) or scale the data as shown in:\n",
            "    https://scikit-learn.org/stable/modules/preprocessing.html\n",
            "Please also refer to the documentation for alternative solver options:\n",
            "    https://scikit-learn.org/stable/modules/linear_model.html#logistic-regression\n",
            "  extra_warning_msg=_LOGISTIC_SOLVER_CONVERGENCE_MSG)\n"
          ],
          "name": "stderr"
        },
        {
          "output_type": "execute_result",
          "data": {
            "text/plain": [
              "1.39682"
            ]
          },
          "metadata": {
            "tags": []
          },
          "execution_count": 44
        }
      ]
    },
    {
      "cell_type": "code",
      "metadata": {
        "id": "m9xn3efQYtt0"
      },
      "source": [
        "qual_flexweight[1] = mean_absolute_error(test_y, pred_XX)"
      ],
      "execution_count": null,
      "outputs": []
    },
    {
      "cell_type": "code",
      "metadata": {
        "colab": {
          "base_uri": "https://localhost:8080/"
        },
        "id": "N1PaMT1EYxEg",
        "outputId": "37ca063c-5c61-418d-f23e-38fc124c254f"
      },
      "source": [
        "emb_size = 300\r\n",
        "model = Word2Vec(sentences=train_x, size=emb_size, sg=1, hs=1, window=11, iter=8, sample=0.001, alpha=0.030, min_count=3, min_alpha=0.0001, max_vocab_size=15000)\r\n",
        "X = model[model.wv.vocab]\r\n",
        "words = np.array(list(model.wv.vocab))\r\n",
        "\r\n",
        "train_XX = np.zeros((len(train_x), emb_size,))\r\n",
        "for i in range(len(train_x)):\r\n",
        "  x = np.zeros((emb_size,))\r\n",
        "  c = 0\r\n",
        "  for word in train_x[i]:\r\n",
        "    if word in words:\r\n",
        "      x = x + we[np.where(words == word)[0][0]]*X[np.where(words == word)[0][0]]\r\n",
        "      c += 1\r\n",
        "  train_XX[i] = x / c\r\n",
        "  if np.isnan(train_XX[i]).any():\r\n",
        "    train_XX[i] = np.zeros((emb_size,))\r\n",
        "\r\n",
        "test_XX = np.zeros((len(test_x), emb_size,))\r\n",
        "for i in range(len(test_x)):\r\n",
        "  x = np.zeros((emb_size,))\r\n",
        "  c = 0\r\n",
        "  for word in test_x[i]:\r\n",
        "    if word in words:\r\n",
        "      x = x + we[np.where(words == word)[0][0]]*X[np.where(words == word)[0][0]]\r\n",
        "      c += 1\r\n",
        "  test_XX[i] = x / c\r\n",
        "  if np.isnan(test_XX[i]).any():\r\n",
        "    test_XX[i] = np.zeros((emb_size,))\r\n",
        "\r\n",
        "log_reg = LogisticRegression(max_iter=300, penalty='none').fit(train_XX, train_y)\r\n",
        "pred_XX = log_reg.predict(test_XX)\r\n",
        "mean_absolute_error(test_y, pred_XX)"
      ],
      "execution_count": null,
      "outputs": [
        {
          "output_type": "stream",
          "text": [
            "/usr/local/lib/python3.6/dist-packages/ipykernel_launcher.py:3: DeprecationWarning: Call to deprecated `__getitem__` (Method will be removed in 4.0.0, use self.wv.__getitem__() instead).\n",
            "  This is separate from the ipykernel package so we can avoid doing imports until\n",
            "/usr/local/lib/python3.6/dist-packages/sklearn/linear_model/_logistic.py:940: ConvergenceWarning: lbfgs failed to converge (status=1):\n",
            "STOP: TOTAL NO. of ITERATIONS REACHED LIMIT.\n",
            "\n",
            "Increase the number of iterations (max_iter) or scale the data as shown in:\n",
            "    https://scikit-learn.org/stable/modules/preprocessing.html\n",
            "Please also refer to the documentation for alternative solver options:\n",
            "    https://scikit-learn.org/stable/modules/linear_model.html#logistic-regression\n",
            "  extra_warning_msg=_LOGISTIC_SOLVER_CONVERGENCE_MSG)\n"
          ],
          "name": "stderr"
        },
        {
          "output_type": "execute_result",
          "data": {
            "text/plain": [
              "1.39178"
            ]
          },
          "metadata": {
            "tags": []
          },
          "execution_count": 46
        }
      ]
    },
    {
      "cell_type": "code",
      "metadata": {
        "id": "BewjAgQvY0LU"
      },
      "source": [
        "qual_flexweight[2] = mean_absolute_error(test_y, pred_XX)"
      ],
      "execution_count": null,
      "outputs": []
    },
    {
      "cell_type": "code",
      "metadata": {
        "colab": {
          "base_uri": "https://localhost:8080/"
        },
        "id": "uRGqaSxGY26K",
        "outputId": "99ecb46a-84d0-4e37-8494-710abd316a43"
      },
      "source": [
        "emb_size = 500\r\n",
        "model = Word2Vec(sentences=train_x, size=emb_size, sg=1, hs=1, window=11, iter=8, sample=0.001, alpha=0.030, min_count=3, min_alpha=0.0001, max_vocab_size=15000)\r\n",
        "X = model[model.wv.vocab]\r\n",
        "words = np.array(list(model.wv.vocab))\r\n",
        "\r\n",
        "train_XX = np.zeros((len(train_x), emb_size,))\r\n",
        "for i in range(len(train_x)):\r\n",
        "  x = np.zeros((emb_size,))\r\n",
        "  c = 0\r\n",
        "  for word in train_x[i]:\r\n",
        "    if word in words:\r\n",
        "      x = x + we[np.where(words == word)[0][0]]*X[np.where(words == word)[0][0]]\r\n",
        "      c += 1\r\n",
        "  train_XX[i] = x / c\r\n",
        "  if np.isnan(train_XX[i]).any():\r\n",
        "    train_XX[i] = np.zeros((emb_size,))\r\n",
        "\r\n",
        "test_XX = np.zeros((len(test_x), emb_size,))\r\n",
        "for i in range(len(test_x)):\r\n",
        "  x = np.zeros((emb_size,))\r\n",
        "  c = 0\r\n",
        "  for word in test_x[i]:\r\n",
        "    if word in words:\r\n",
        "      x = x + we[np.where(words == word)[0][0]]*X[np.where(words == word)[0][0]]\r\n",
        "      c += 1\r\n",
        "  test_XX[i] = x / c\r\n",
        "  if np.isnan(test_XX[i]).any():\r\n",
        "    test_XX[i] = np.zeros((emb_size,))\r\n",
        "\r\n",
        "log_reg = LogisticRegression(max_iter=300, penalty='none').fit(train_XX, train_y)\r\n",
        "pred_XX = log_reg.predict(test_XX)\r\n",
        "mean_absolute_error(test_y, pred_XX)"
      ],
      "execution_count": null,
      "outputs": [
        {
          "output_type": "stream",
          "text": [
            "/usr/local/lib/python3.6/dist-packages/ipykernel_launcher.py:3: DeprecationWarning: Call to deprecated `__getitem__` (Method will be removed in 4.0.0, use self.wv.__getitem__() instead).\n",
            "  This is separate from the ipykernel package so we can avoid doing imports until\n",
            "/usr/local/lib/python3.6/dist-packages/sklearn/linear_model/_logistic.py:940: ConvergenceWarning: lbfgs failed to converge (status=1):\n",
            "STOP: TOTAL NO. of ITERATIONS REACHED LIMIT.\n",
            "\n",
            "Increase the number of iterations (max_iter) or scale the data as shown in:\n",
            "    https://scikit-learn.org/stable/modules/preprocessing.html\n",
            "Please also refer to the documentation for alternative solver options:\n",
            "    https://scikit-learn.org/stable/modules/linear_model.html#logistic-regression\n",
            "  extra_warning_msg=_LOGISTIC_SOLVER_CONVERGENCE_MSG)\n"
          ],
          "name": "stderr"
        },
        {
          "output_type": "execute_result",
          "data": {
            "text/plain": [
              "1.39852"
            ]
          },
          "metadata": {
            "tags": []
          },
          "execution_count": 48
        }
      ]
    },
    {
      "cell_type": "code",
      "metadata": {
        "id": "R_NrJtcyY6cC"
      },
      "source": [
        "qual_flexweight[3] = mean_absolute_error(test_y, pred_XX)"
      ],
      "execution_count": null,
      "outputs": []
    },
    {
      "cell_type": "code",
      "metadata": {
        "id": "Pe-pZDgVaTQp",
        "colab": {
          "base_uri": "https://localhost:8080/"
        },
        "outputId": "0365b2e3-5fdd-4c59-f15c-f797dcac7bca"
      },
      "source": [
        "emb_size = 500\r\n",
        "model = Word2Vec(sentences=train_x, size=emb_size, sg=1, hs=1, window=11, iter=8, sample=0.001, alpha=0.030, min_count=3, min_alpha=0.0001, max_vocab_size=15000)\r\n",
        "X = model[model.wv.vocab]\r\n",
        "words = np.array(list(model.wv.vocab))\r\n",
        "\r\n",
        "train_X = np.zeros((len(train_x), emb_size,))\r\n",
        "for i in range(len(train_x)):\r\n",
        "  x = np.zeros((emb_size,))\r\n",
        "  c = 0\r\n",
        "  for word in train_x[i]:\r\n",
        "    if word in words:\r\n",
        "      x = x + X[np.where(words == word)[0][0]]\r\n",
        "      c += 1\r\n",
        "  train_X[i] = x / c\r\n",
        "  if np.isnan(train_X[i]).any():\r\n",
        "    train_X[i] = np.zeros((emb_size,))\r\n",
        "\r\n",
        "test_X = np.zeros((len(test_x), emb_size,))\r\n",
        "for i in range(len(test_x)):\r\n",
        "  x = np.zeros((emb_size,))\r\n",
        "  c = 0\r\n",
        "  for word in test_x[i]:\r\n",
        "    if word in words:\r\n",
        "      x = x + X[np.where(words == word)[0][0]]\r\n",
        "      c += 1\r\n",
        "  test_X[i] = x / c\r\n",
        "  if np.isnan(test_X[i]).any():\r\n",
        "    test_X[i] = np.zeros((emb_size,))\r\n",
        "\r\n",
        "log_reg = LogisticRegression(max_iter=300, penalty='none').fit(train_X, train_y)\r\n",
        "pred = log_reg.predict(test_X)\r\n",
        "mean_absolute_error(test_y, pred)"
      ],
      "execution_count": null,
      "outputs": [
        {
          "output_type": "stream",
          "text": [
            "/usr/local/lib/python3.6/dist-packages/ipykernel_launcher.py:3: DeprecationWarning: Call to deprecated `__getitem__` (Method will be removed in 4.0.0, use self.wv.__getitem__() instead).\n",
            "  This is separate from the ipykernel package so we can avoid doing imports until\n",
            "/usr/local/lib/python3.6/dist-packages/sklearn/linear_model/_logistic.py:940: ConvergenceWarning: lbfgs failed to converge (status=1):\n",
            "STOP: TOTAL NO. of ITERATIONS REACHED LIMIT.\n",
            "\n",
            "Increase the number of iterations (max_iter) or scale the data as shown in:\n",
            "    https://scikit-learn.org/stable/modules/preprocessing.html\n",
            "Please also refer to the documentation for alternative solver options:\n",
            "    https://scikit-learn.org/stable/modules/linear_model.html#logistic-regression\n",
            "  extra_warning_msg=_LOGISTIC_SOLVER_CONVERGENCE_MSG)\n"
          ],
          "name": "stderr"
        },
        {
          "output_type": "execute_result",
          "data": {
            "text/plain": [
              "0.9847"
            ]
          },
          "metadata": {
            "tags": []
          },
          "execution_count": 28
        }
      ]
    },
    {
      "cell_type": "code",
      "metadata": {
        "id": "V8Tk2RnYTPrH"
      },
      "source": [
        "qual_zeroweight[2] = mean_absolute_error(test_y, pred)"
      ],
      "execution_count": null,
      "outputs": []
    },
    {
      "cell_type": "code",
      "metadata": {
        "colab": {
          "base_uri": "https://localhost:8080/"
        },
        "id": "a-PNhYTfTrfQ",
        "outputId": "2300aed9-a0d0-49f7-aadb-7c9d27a71d05"
      },
      "source": [
        "emb_size = 100\r\n",
        "model = Word2Vec(sentences=train_x, size=emb_size, sg=1, hs=1, window=11, iter=8, sample=0.001, alpha=0.030, min_count=3, min_alpha=0.0001, max_vocab_size=15000)\r\n",
        "X = model[model.wv.vocab]\r\n",
        "words = np.array(list(model.wv.vocab))\r\n",
        "\r\n",
        "train_X = np.zeros((len(train_x), emb_size,))\r\n",
        "for i in range(len(train_x)):\r\n",
        "  x = np.zeros((emb_size,))\r\n",
        "  c = 0\r\n",
        "  for word in train_x[i]:\r\n",
        "    if word in words:\r\n",
        "      x = x + X[np.where(words == word)[0][0]]\r\n",
        "      c += 1\r\n",
        "  train_X[i] = x / c\r\n",
        "  if np.isnan(train_X[i]).any():\r\n",
        "    train_X[i] = np.zeros((emb_size,))\r\n",
        "\r\n",
        "test_X = np.zeros((len(test_x), emb_size,))\r\n",
        "for i in range(len(test_x)):\r\n",
        "  x = np.zeros((emb_size,))\r\n",
        "  c = 0\r\n",
        "  for word in test_x[i]:\r\n",
        "    if word in words:\r\n",
        "      x = x + X[np.where(words == word)[0][0]]\r\n",
        "      c += 1\r\n",
        "  test_X[i] = x / c\r\n",
        "  if np.isnan(test_X[i]).any():\r\n",
        "    test_X[i] = np.zeros((emb_size,))\r\n",
        "\r\n",
        "log_reg = LogisticRegression(max_iter=300, penalty='none').fit(train_X, train_y)\r\n",
        "pred = log_reg.predict(test_X)\r\n",
        "mean_absolute_error(test_y, pred)"
      ],
      "execution_count": null,
      "outputs": [
        {
          "output_type": "stream",
          "text": [
            "/usr/local/lib/python3.6/dist-packages/ipykernel_launcher.py:3: DeprecationWarning: Call to deprecated `__getitem__` (Method will be removed in 4.0.0, use self.wv.__getitem__() instead).\n",
            "  This is separate from the ipykernel package so we can avoid doing imports until\n",
            "/usr/local/lib/python3.6/dist-packages/sklearn/linear_model/_logistic.py:940: ConvergenceWarning: lbfgs failed to converge (status=1):\n",
            "STOP: TOTAL NO. of ITERATIONS REACHED LIMIT.\n",
            "\n",
            "Increase the number of iterations (max_iter) or scale the data as shown in:\n",
            "    https://scikit-learn.org/stable/modules/preprocessing.html\n",
            "Please also refer to the documentation for alternative solver options:\n",
            "    https://scikit-learn.org/stable/modules/linear_model.html#logistic-regression\n",
            "  extra_warning_msg=_LOGISTIC_SOLVER_CONVERGENCE_MSG)\n"
          ],
          "name": "stderr"
        },
        {
          "output_type": "execute_result",
          "data": {
            "text/plain": [
              "1.0123000000000002"
            ]
          },
          "metadata": {
            "tags": []
          },
          "execution_count": 34
        }
      ]
    },
    {
      "cell_type": "code",
      "metadata": {
        "id": "3UPHg0N0VxJ0"
      },
      "source": [
        "qual_zeroweight[0] = mean_absolute_error(test_y, pred)"
      ],
      "execution_count": null,
      "outputs": []
    },
    {
      "cell_type": "code",
      "metadata": {
        "colab": {
          "base_uri": "https://localhost:8080/"
        },
        "id": "JMgjIREvU-Fc",
        "outputId": "7c7b17f6-12ff-413d-a5de-9dab9ec7803a"
      },
      "source": [
        "emb_size = 200\r\n",
        "model = Word2Vec(sentences=train_x, size=emb_size, sg=1, hs=1, window=11, iter=8, sample=0.001, alpha=0.030, min_count=3, min_alpha=0.0001, max_vocab_size=15000)\r\n",
        "X = model[model.wv.vocab]\r\n",
        "words = np.array(list(model.wv.vocab))\r\n",
        "\r\n",
        "train_X = np.zeros((len(train_x), emb_size,))\r\n",
        "for i in range(len(train_x)):\r\n",
        "  x = np.zeros((emb_size,))\r\n",
        "  c = 0\r\n",
        "  for word in train_x[i]:\r\n",
        "    if word in words:\r\n",
        "      x = x + X[np.where(words == word)[0][0]]\r\n",
        "      c += 1\r\n",
        "  train_X[i] = x / c\r\n",
        "  if np.isnan(train_X[i]).any():\r\n",
        "    train_X[i] = np.zeros((emb_size,))\r\n",
        "\r\n",
        "test_X = np.zeros((len(test_x), emb_size,))\r\n",
        "for i in range(len(test_x)):\r\n",
        "  x = np.zeros((emb_size,))\r\n",
        "  c = 0\r\n",
        "  for word in test_x[i]:\r\n",
        "    if word in words:\r\n",
        "      x = x + X[np.where(words == word)[0][0]]\r\n",
        "      c += 1\r\n",
        "  test_X[i] = x / c\r\n",
        "  if np.isnan(test_X[i]).any():\r\n",
        "    test_X[i] = np.zeros((emb_size,))\r\n",
        "\r\n",
        "log_reg = LogisticRegression(max_iter=300, penalty='none').fit(train_X, train_y)\r\n",
        "pred = log_reg.predict(test_X)\r\n",
        "mean_absolute_error(test_y, pred)"
      ],
      "execution_count": null,
      "outputs": [
        {
          "output_type": "stream",
          "text": [
            "/usr/local/lib/python3.6/dist-packages/ipykernel_launcher.py:3: DeprecationWarning: Call to deprecated `__getitem__` (Method will be removed in 4.0.0, use self.wv.__getitem__() instead).\n",
            "  This is separate from the ipykernel package so we can avoid doing imports until\n",
            "/usr/local/lib/python3.6/dist-packages/sklearn/linear_model/_logistic.py:940: ConvergenceWarning: lbfgs failed to converge (status=1):\n",
            "STOP: TOTAL NO. of ITERATIONS REACHED LIMIT.\n",
            "\n",
            "Increase the number of iterations (max_iter) or scale the data as shown in:\n",
            "    https://scikit-learn.org/stable/modules/preprocessing.html\n",
            "Please also refer to the documentation for alternative solver options:\n",
            "    https://scikit-learn.org/stable/modules/linear_model.html#logistic-regression\n",
            "  extra_warning_msg=_LOGISTIC_SOLVER_CONVERGENCE_MSG)\n"
          ],
          "name": "stderr"
        },
        {
          "output_type": "execute_result",
          "data": {
            "text/plain": [
              "0.9937800000000001"
            ]
          },
          "metadata": {
            "tags": []
          },
          "execution_count": 36
        }
      ]
    },
    {
      "cell_type": "markdown",
      "metadata": {
        "id": "Sf7AX8IjkqNQ"
      },
      "source": [
        "Т.к. к этому моменту уже решено делать график для четырех значений длины эмбеддинга, то необходимо создать новый массив (для модели с единичными весами), дополнить одним посчитанным только что лоссом и переписать туда уже полученные для модели лоссы."
      ]
    },
    {
      "cell_type": "code",
      "metadata": {
        "id": "GvfAwcpkVkt2"
      },
      "source": [
        "qual_zerowe = [0, 0, 0, 0]\r\n",
        "qual_zerowe[1] = mean_absolute_error(test_y, pred)"
      ],
      "execution_count": null,
      "outputs": []
    },
    {
      "cell_type": "code",
      "metadata": {
        "id": "utvAStgXVIJ1"
      },
      "source": [
        "qual_zerowe[0] = qual_zeroweight[0]\r\n",
        "qual_zerowe[2] = qual_zeroweight[1]\r\n",
        "qual_zerowe[3] = qual_zeroweight[2]"
      ],
      "execution_count": null,
      "outputs": []
    },
    {
      "cell_type": "markdown",
      "metadata": {
        "id": "z54aB0DKmRmB"
      },
      "source": [
        "Проведите эксперименты с размерностью эмбеддинга. Для каждого из двух методов постройте график зависимости качества модели от размерности эмбеддинга. "
      ]
    },
    {
      "cell_type": "code",
      "metadata": {
        "id": "f7ZjAEv2sWSv",
        "colab": {
          "base_uri": "https://localhost:8080/",
          "height": 295
        },
        "outputId": "c59f9975-8486-49da-d21b-6b8f1fd1f3dd"
      },
      "source": [
        "import matplotlib.pyplot as plt  \r\n",
        "  \r\n",
        "x = [100, 200, 300, 500]   \r\n",
        "plt.plot(x, qual_zerowe)  \r\n",
        "plt.xlabel('Embedding size')    \r\n",
        "plt.ylabel('Los') # Loss* \r\n",
        "plt.title('Word2Vec with zero weights') # опечатка: это не zero weights, а единичные weights \r\n",
        "plt.show()  "
      ],
      "execution_count": null,
      "outputs": [
        {
          "output_type": "display_data",
          "data": {
            "image/png": "[encoded data removed]",
            "text/plain": [
              "<Figure size 432x288 with 1 Axes>"
            ]
          },
          "metadata": {
            "tags": [],
            "needs_background": "light"
          }
        }
      ]
    },
    {
      "cell_type": "code",
      "metadata": {
        "colab": {
          "base_uri": "https://localhost:8080/",
          "height": 295
        },
        "id": "fHOQQho6TF4_",
        "outputId": "02ebf8aa-8caa-4f88-d790-27f3a2077ac4"
      },
      "source": [
        "x = [100, 200, 300, 500] \r\n",
        "plt.plot(x, qual_flexweight)  \r\n",
        "plt.xlabel('Embedding size')    \r\n",
        "plt.ylabel('Loss')  \r\n",
        "plt.title('Word2Vec with flexible weights')  \r\n",
        "plt.show()"
      ],
      "execution_count": null,
      "outputs": [
        {
          "output_type": "display_data",
          "data": {
            "image/png": "[encoded data removed]",
            "text/plain": [
              "<Figure size 432x288 with 1 Axes>"
            ]
          },
          "metadata": {
            "tags": [],
            "needs_background": "light"
          }
        }
      ]
    },
    {
      "cell_type": "markdown",
      "metadata": {
        "id": "72CyjgZ8sUvn"
      },
      "source": [
        "#### Сделайте выводы:"
      ]
    },
    {
      "cell_type": "markdown",
      "metadata": {
        "id": "Sa6aPzayeQrA"
      },
      "source": [
        "Качество на взвешенных word2vec явно хуже, чем при единичных весах. Это может показаться странным, тк более редкие слова при гибких весах сильнее влияют на предсказание. Однако, если для положительной или отрицательной характеристики клиенты используют одни и те же слова, описывая разные особенности или детали отелей (например: great, bad, comfortable, fabulous, tremendous, awful), то уже эти слова-характеристики будут иметь более однозначное значение, повторяясь довольно часто. \r\n",
        "\r\n",
        "Оптимальный размер вектора = 300 для обоих вариантов весов. По всей видимости, именно при таком размере вектора для отзывов, похоже описывающих отель (и имеющих похожие оценки), все еще похожи друг на друга, но уже не похожи на вектора отзывов, описывающих отель по-другому (имеющих иные оценки)."
      ]
    },
    {
      "cell_type": "markdown",
      "metadata": {
        "id": "waB9cDqjmRmC"
      },
      "source": [
        "Теперь попробуйте обучить логистическую регрессию на любых других эмбеддингах размерности 300 и сравните качество с Word2Vec."
      ]
    },
    {
      "cell_type": "code",
      "metadata": {
        "id": "7n7PsIpIsGM1"
      },
      "source": [
        "from gensim.models import FastText\r\n",
        "# from gensim.models.wrappers import Wordrank"
      ],
      "execution_count": null,
      "outputs": []
    },
    {
      "cell_type": "code",
      "metadata": {
        "id": "p3Cc-XDssPQz"
      },
      "source": [
        "emb_size = 300\r\n",
        "model_fast = FastText(sentences=train_x, size=emb_size, window=8, sg=1, hs=1, iter=7)"
      ],
      "execution_count": null,
      "outputs": []
    },
    {
      "cell_type": "code",
      "metadata": {
        "colab": {
          "base_uri": "https://localhost:8080/"
        },
        "id": "Y6k3FhYej4y6",
        "outputId": "f257ec5a-0ec9-4994-9b1e-ddda852bf040"
      },
      "source": [
        "X = model_fast[model_fast.wv.vocab]\r\n",
        "words = np.array(list(model_fast.wv.vocab))"
      ],
      "execution_count": null,
      "outputs": [
        {
          "output_type": "stream",
          "text": [
            "/usr/local/lib/python3.6/dist-packages/ipykernel_launcher.py:1: DeprecationWarning: Call to deprecated `__getitem__` (Method will be removed in 4.0.0, use self.wv.__getitem__() instead).\n",
            "  \"\"\"Entry point for launching an IPython kernel.\n"
          ],
          "name": "stderr"
        }
      ]
    },
    {
      "cell_type": "code",
      "metadata": {
        "id": "f7m5UVcYk2y2"
      },
      "source": [
        "train_XXX = np.zeros((len(train_x), emb_size,))\r\n",
        "for i in range(len(train_x)):\r\n",
        "  x = np.zeros((emb_size,))\r\n",
        "  c = 0\r\n",
        "  for word in train_x[i]:\r\n",
        "    if word in words:\r\n",
        "      x = x + X[np.where(words == word)[0][0]]\r\n",
        "      c += 1\r\n",
        "  train_XXX[i] = x / c\r\n",
        "  if np.isnan(train_XXX[i]).any():\r\n",
        "    train_XXX[i] = np.zeros((emb_size,))\r\n",
        "\r\n",
        "test_XXX = np.zeros((len(test_x), emb_size,))\r\n",
        "for i in range(len(test_x)):\r\n",
        "  x = np.zeros((emb_size,))\r\n",
        "  c = 0\r\n",
        "  for word in test_x[i]:\r\n",
        "    if word in words:\r\n",
        "      x = x + X[np.where(words == word)[0][0]]\r\n",
        "      c += 1\r\n",
        "  test_XXX[i] = x / c\r\n",
        "  if np.isnan(test_XXX[i]).any():\r\n",
        "    test_XXX[i] = np.zeros((emb_size,))"
      ],
      "execution_count": null,
      "outputs": []
    },
    {
      "cell_type": "code",
      "metadata": {
        "colab": {
          "base_uri": "https://localhost:8080/"
        },
        "id": "kgA5T-SYoe2f",
        "outputId": "e84a8205-5a2e-4467-a326-dc584b447743"
      },
      "source": [
        "log_reg = LogisticRegression(max_iter=300, penalty='none').fit(train_XXX, train_y)\r\n",
        "pred_XXX = log_reg.predict(test_XXX)\r\n",
        "mean_absolute_error(test_y, pred_XXX)"
      ],
      "execution_count": null,
      "outputs": [
        {
          "output_type": "stream",
          "text": [
            "/usr/local/lib/python3.6/dist-packages/sklearn/linear_model/_logistic.py:940: ConvergenceWarning: lbfgs failed to converge (status=1):\n",
            "STOP: TOTAL NO. of ITERATIONS REACHED LIMIT.\n",
            "\n",
            "Increase the number of iterations (max_iter) or scale the data as shown in:\n",
            "    https://scikit-learn.org/stable/modules/preprocessing.html\n",
            "Please also refer to the documentation for alternative solver options:\n",
            "    https://scikit-learn.org/stable/modules/linear_model.html#logistic-regression\n",
            "  extra_warning_msg=_LOGISTIC_SOLVER_CONVERGENCE_MSG)\n"
          ],
          "name": "stderr"
        },
        {
          "output_type": "execute_result",
          "data": {
            "text/plain": [
              "0.98077"
            ]
          },
          "metadata": {
            "tags": []
          },
          "execution_count": 99
        }
      ]
    },
    {
      "cell_type": "markdown",
      "metadata": {
        "id": "36S8kkDWsIaF"
      },
      "source": [
        "#### Выводы:"
      ]
    },
    {
      "cell_type": "markdown",
      "metadata": {
        "id": "s5AhMpWOsvQC"
      },
      "source": [
        "FastText, как и могло предполагаться, выдает приемлемое качество без какого-то скурпулезного подбора параметров (чего не скажешь об обычном word2vec). Это логично, ведь fasttext более гибок, т.к. создает представления для частей слов, а не только для слов целиком (например, слова bad и badly имеют одинаковую чаcть bad, при том, что оба слова несут негативную окраску и, скорее всего, будут сигнализировать о более низкой оценке от клиета)."
      ]
    },
    {
      "cell_type": "markdown",
      "metadata": {
        "id": "a6soYY3fmRmC"
      },
      "source": [
        "### Часть 3. 6 баллов"
      ]
    },
    {
      "cell_type": "markdown",
      "metadata": {
        "id": "cqT7kMqKmRmC"
      },
      "source": [
        "Теперь давайте воспользуемся более продвинутыми методами обработки текстовых данных, которые мы проходили в нашем курсе. Обучите RNN/Transformer для предсказания пользовательской оценки. Получите ошибку меньше, чем во всех вышеперечисленных методах."
      ]
    },
    {
      "cell_type": "markdown",
      "metadata": {
        "id": "wlhJj2KtmRmC"
      },
      "source": [
        "Если будете обучать RNN, попробуйте ограничить максимальную длину предложения. Некоторые отзывы могут быть слишком длинные относительно остальных.\n",
        "\n",
        "Чтобы пользоваться DataLoader, все его элементы должны быть одинаковой размерности. Для этого вы можете добавить нулевой паддинг ко всем предложениям (см пример pad_sequence)"
      ]
    },
    {
      "cell_type": "code",
      "metadata": {
        "id": "BA4jFpUlmRmD"
      },
      "source": [
        "import torch\n",
        "from torch import nn\n",
        "from torch.nn import functional as F\n",
        "\n",
        "from torch.utils.data import Dataset\n",
        "from torch.utils.data import DataLoader\n",
        "\n",
        "from IPython.display import clear_output"
      ],
      "execution_count": null,
      "outputs": []
    },
    {
      "cell_type": "code",
      "metadata": {
        "id": "7_-N9upbmRmD"
      },
      "source": [
        "WORDS = set()\n",
        "for sent in list(df['positive']):\n",
        "    for w in sent:\n",
        "        WORDS.add(w)\n",
        "        \n",
        "### У нас уже склеены positive и negative в столбце positive, поэтому работать с negative нет смысла ###  \n",
        "\n",
        "#for sent in list(df['negative']): \n",
        "#    for w in sent:\n",
        "#        WORDS.add(w)"
      ],
      "execution_count": null,
      "outputs": []
    },
    {
      "cell_type": "code",
      "metadata": {
        "id": "-KiJ8E9smRmD"
      },
      "source": [
        "int2word = dict(enumerate(tuple(WORDS)))\n",
        "word2int = {w: ii for ii, w in int2word.items()}"
      ],
      "execution_count": null,
      "outputs": []
    },
    {
      "cell_type": "code",
      "metadata": {
        "id": "6hy6PSKjmRmE"
      },
      "source": [
        "MAX_LEN = max(max(df['positive'].apply(len)), max(df['negative'].apply(len)))"
      ],
      "execution_count": null,
      "outputs": []
    },
    {
      "cell_type": "code",
      "metadata": {
        "id": "4fXeip_9mRmE",
        "colab": {
          "base_uri": "https://localhost:8080/"
        },
        "outputId": "6382afea-0ba2-4b3d-fa06-4b4bee6e7d80"
      },
      "source": [
        "MAX_LEN"
      ],
      "execution_count": null,
      "outputs": [
        {
          "output_type": "execute_result",
          "data": {
            "text/plain": [
              "1965"
            ]
          },
          "metadata": {
            "tags": []
          },
          "execution_count": 15
        }
      ]
    },
    {
      "cell_type": "code",
      "metadata": {
        "id": "BnuBMaWxxiRp"
      },
      "source": [
        "vocab = len(WORDS) # Длина словаря"
      ],
      "execution_count": null,
      "outputs": []
    },
    {
      "cell_type": "code",
      "metadata": {
        "id": "7WyHIVtV5XiN"
      },
      "source": [
        "### Заново грузим данные как во втором задании ###\r\n",
        "df = pd.read_csv(PATH_TO_TRAIN_DATA)\r\n",
        "df['positive'] = 'positive: ' + df['positive'] + ' ' + df['negative'] + ' negative.' # concatenation two rows into one (positive).\r\n",
        "df['positive'] = df['positive'].apply(process_text)\r\n",
        "df_train, df_test = train_test_split(df, train_size=30000, test_size=10000)\r\n",
        "train_y = df_train['score']\r\n",
        "test_y = df_test['score']\r\n",
        "train_y = train_y.to_numpy() # series to array\r\n",
        "test_y = test_y.to_numpy()\r\n",
        "train_y = np.around(train_y)\r\n",
        "train_y = train_y.astype(int)"
      ],
      "execution_count": null,
      "outputs": []
    },
    {
      "cell_type": "code",
      "metadata": {
        "id": "2GwtlWfQmRmF"
      },
      "source": [
        "from torch.nn.utils.rnn import pad_sequence\n",
        "\n",
        "### Ограничим отзывы длиной = MAX_REV ###\n",
        "MAX_REV = 60\n",
        "train_pos_pad = pad_sequence([torch.as_tensor([word2int[w] for w in seq][:MAX_REV]) for seq in df_train['positive']], \n",
        "                           batch_first=True)\n",
        "### То же самое для test ###\n",
        "test_pos_pad = pad_sequence([torch.as_tensor([word2int[w] for w in seq][:MAX_REV]) for seq in df_test['positive']], \n",
        "                           batch_first=True)"
      ],
      "execution_count": null,
      "outputs": []
    },
    {
      "cell_type": "code",
      "metadata": {
        "id": "Cq8yR4nveMhK"
      },
      "source": [
        "class ReviewsDataset(Dataset):\r\n",
        "    def __init__(self, X, Y):\r\n",
        "        self.X = X\r\n",
        "        self.y = Y\r\n",
        "        \r\n",
        "    def __len__(self):\r\n",
        "        return len(self.y)\r\n",
        "    \r\n",
        "    def __getitem__(self, idx):\r\n",
        "        return self.X[idx], self.y[idx], 60 # Третий выход идёт в переменную l, которая никак не будет использоваться, поэтому пишем любое число"
      ],
      "execution_count": null,
      "outputs": []
    },
    {
      "cell_type": "code",
      "metadata": {
        "id": "ws6FO4nNihC2"
      },
      "source": [
        "train_ds = ReviewsDataset(train_pos_pad, train_y)\r\n",
        "valid_ds = ReviewsDataset(test_pos_pad, test_y)"
      ],
      "execution_count": null,
      "outputs": []
    },
    {
      "cell_type": "code",
      "metadata": {
        "id": "IYxXSvthiuJ0"
      },
      "source": [
        "batch_size = 128\r\n",
        "vocab_size = vocab\r\n",
        "train_dl = DataLoader(train_ds, batch_size=batch_size, shuffle=True)\r\n",
        "val_dl = DataLoader(valid_ds, batch_size=batch_size)"
      ],
      "execution_count": null,
      "outputs": []
    },
    {
      "cell_type": "code",
      "metadata": {
        "id": "zFEOn0hhjHHB"
      },
      "source": [
        "def train_model_regr(model, epochs=10, lr=0.001):\r\n",
        "    parameters = filter(lambda p: p.requires_grad, model.parameters())\r\n",
        "    optimizer = torch.optim.Adam(parameters, lr=lr) # как всегда, используем Адама\r\n",
        "    for i in range(epochs):\r\n",
        "        model.train()\r\n",
        "        sum_loss = 0.0\r\n",
        "        total = 0\r\n",
        "        for x, y, l in train_dl:\r\n",
        "            x = x.type(torch.LongTensor)\r\n",
        "            y = y.type(torch.FloatTensor)\r\n",
        "            y_pred = model(x, l)\r\n",
        "            y_pred = y_pred.view(y_pred.shape[0])\r\n",
        "            optimizer.zero_grad()\r\n",
        "            loss = F.mse_loss(y_pred, y) \r\n",
        "            loss.backward()\r\n",
        "            optimizer.step()\r\n",
        "            sum_loss += loss.item()*y.shape[0]\r\n",
        "            total += y.shape[0]\r\n",
        "        val_loss, val_loss_mae = validation_metrics_regr(model, val_dl) # подсчет MSE и MAE\r\n",
        "        if i % 5 == 1:\r\n",
        "            print(\"train mse %.3f val rmse %.3f val mae %.3f\" % (sum_loss/total, val_loss, val_loss_mae))\r\n",
        "\r\n",
        "def validation_metrics_regr (model, valid_dl):\r\n",
        "    model.eval()\r\n",
        "    correct = 0\r\n",
        "    total = 0\r\n",
        "    sum_loss = 0.0\r\n",
        "    sum_loss_mae = 0.0\r\n",
        "    for x, y, l in valid_dl:\r\n",
        "        x = x.type(torch.LongTensor)\r\n",
        "        y = y.type(torch.FloatTensor)\r\n",
        "        y_hat = model(x, l)\r\n",
        "        y_hat = y_hat.view(y_hat.shape[0])\r\n",
        "        loss = np.sqrt(F.mse_loss(y_hat.detach(), y).item())\r\n",
        "        loss_mae = mean_absolute_error(y, y_hat.detach()).item()\r\n",
        "        total += 1 \r\n",
        "        sum_loss += loss.item() \r\n",
        "        sum_loss_mae += loss_mae \r\n",
        "    return sum_loss/total, sum_loss_mae/total\r\n",
        "\r\n",
        "### Модель - последовательное представление отзывов векторами, ###\r\n",
        "### выкидывание случайных нейронов с вероятностью 0,2, слой LSTM и полносвязный слой с одим выходом как при регрессии ###\r\n",
        "class LSTM_regr(torch.nn.Module) :\r\n",
        "    def __init__(self, vocab_size, embedding_dim, hidden_dim) :\r\n",
        "        super().__init__()\r\n",
        "        self.embeddings = nn.Embedding(vocab_size, embedding_dim, padding_idx=0)\r\n",
        "        self.lstm = nn.LSTM(embedding_dim, hidden_dim, batch_first=True)\r\n",
        "        self.linear = nn.Linear(hidden_dim, 1)\r\n",
        "        self.dropout = nn.Dropout(0.2)\r\n",
        "        \r\n",
        "    def forward(self, x, l):\r\n",
        "        x = self.embeddings(x)\r\n",
        "        x = self.dropout(x)\r\n",
        "        lstm_out, (ht, ct) = self.lstm(x)\r\n",
        "        return self.linear(ht[-1])"
      ],
      "execution_count": null,
      "outputs": []
    },
    {
      "cell_type": "code",
      "metadata": {
        "id": "g3CKVIlWkIAA"
      },
      "source": [
        "model_regr = LSTM_regr(vocab_size, 300, 50) # зададим длину вектора представления=300 и число параметров в LSTM=50"
      ],
      "execution_count": null,
      "outputs": []
    },
    {
      "cell_type": "markdown",
      "metadata": {
        "id": "KAvY-l-p-ubN"
      },
      "source": [
        "Тренируется эта штука минут 20."
      ]
    },
    {
      "cell_type": "code",
      "metadata": {
        "colab": {
          "base_uri": "https://localhost:8080/"
        },
        "id": "M7pxYR1sUvd5",
        "outputId": "4f6564dd-e708-431b-bb6f-7137050e4b48"
      },
      "source": [
        "train_model_regr(model_regr, epochs=15, lr=0.001)"
      ],
      "execution_count": null,
      "outputs": [
        {
          "output_type": "stream",
          "text": [
            "train mse 2.794 val rmse 1.609 val mae 1.296\n",
            "train mse 1.606 val rmse 1.255 val mae 0.949\n",
            "train mse 1.147 val rmse 1.208 val mae 0.890\n"
          ],
          "name": "stdout"
        }
      ]
    },
    {
      "cell_type": "markdown",
      "metadata": {
        "id": "LXkb60ajzaRP"
      },
      "source": [
        "Другая попытка с двадцатью эпохами:"
      ]
    },
    {
      "cell_type": "code",
      "metadata": {
        "colab": {
          "base_uri": "https://localhost:8080/"
        },
        "id": "t_zID4UqW4KW",
        "outputId": "a051defb-fdeb-475c-a8f6-204a816f03c7"
      },
      "source": [
        "train_model_regr(model_regr, epochs=20, lr=0.0007)"
      ],
      "execution_count": null,
      "outputs": [
        {
          "output_type": "stream",
          "text": [
            "train mse 2.659 val rmse 1.623 val mae 1.311\n",
            "train mse 1.354 val rmse 1.168 val mae 0.883\n",
            "train mse 1.089 val rmse 1.130 val mae 0.854\n",
            "train mse 0.950 val rmse 1.125 val mae 0.840\n"
          ],
          "name": "stdout"
        }
      ]
    },
    {
      "cell_type": "markdown",
      "metadata": {
        "id": "Ly5mSFvq1n9t"
      },
      "source": [
        "Похоже, что RNN работает действительно лучше (и дольше) логистической регрессии, что достигается особенностями архитектуры с использованием предыдущих скрытых состояний.\r\n",
        "\r\n",
        "Для выполнения домашки использовались материалы из интернета, в частности: \"How to Develop Word Embeddings in Python with Gensim\" от Jason Brownlee, \"Multiclass Text Classification using LSTM in Pytorch\" от Aakanksha NS, вопрос-ответы по ссылкам https://stackoverflow.com/questions/26576524/how-do-i-transform-a-scipy-sparse-matrix-to-a-numpy-matrix, https://stackoverrun.com/ru/q/401345."
      ]
    },
    {
      "cell_type": "markdown",
      "metadata": {
        "id": "0t_7VElNmRmH"
      },
      "source": [
        "### Бонус. 10 баллов\n",
        "\n",
        "Побейте качество 0.75 в [соревновании](https://www.kaggle.com/c/hseds-texts-2020/leaderboard). Можете воспользоваться вышеперечисленными методами или попробовать что-нибудь еще."
      ]
    },
    {
      "cell_type": "code",
      "metadata": {
        "id": "LFdx-jCbmRmH"
      },
      "source": [
        ""
      ],
      "execution_count": null,
      "outputs": []
    }
  ]
}